{
 "cells": [
  {
   "cell_type": "code",
   "execution_count": 1,
   "metadata": {},
   "outputs": [
    {
     "name": "stderr",
     "output_type": "stream",
     "text": [
      "[nltk_data] Downloading package stopwords to\n",
      "[nltk_data]     /home/scorpion/nltk_data...\n",
      "[nltk_data]   Package stopwords is already up-to-date!\n"
     ]
    },
    {
     "data": {
      "text/plain": [
       "True"
      ]
     },
     "execution_count": 1,
     "metadata": {},
     "output_type": "execute_result"
    }
   ],
   "source": [
    "from sklearn.naive_bayes import MultinomialNB\n",
    "from sklearn.metrics import confusion_matrix, classification_report, accuracy_score\n",
    "import numpy as np\n",
    "import pandas as pd\n",
    "import matplotlib.pyplot as plt\n",
    "import math as mt\n",
    "import os, time, sys\n",
    "import re\n",
    "import nltk\n",
    "from nltk.corpus import stopwords\n",
    "from sklearn.model_selection import train_test_split\n",
    "nltk.download('stopwords')"
   ]
  },
  {
   "cell_type": "code",
   "execution_count": 2,
   "metadata": {},
   "outputs": [],
   "source": [
    "import matplotlib\n",
    "matplotlib.rc('figure', figsize=[8,15])"
   ]
  },
  {
   "cell_type": "code",
   "execution_count": 3,
   "metadata": {},
   "outputs": [],
   "source": [
    "def loading_bar(start_time, progress, barLen=40):\n",
    "    d = barLen * progress\n",
    "    s=(d+0.000001)/(time.time()-start_time+0.000001)\n",
    "    if d == barLen:\n",
    "        sys.stdout.write('\\r')\n",
    "        sys.stdout.write(\"Progress: |{:<{}}| {:.2f}% | ETA: {:.2f}s | Elapsed Time: ~{:.2f}s\".format(\"░\" * int(d), \n",
    "                                                                                   barLen, \n",
    "                                                                                   progress * 100,\n",
    "                                                                                   (barLen-d)/s, time.time()-start_time))\n",
    "        sys.stdout.flush()\n",
    "    else:\n",
    "        sys.stdout.write('\\r')\n",
    "        sys.stdout.write(\"Progress: |{:<{}}| {:.2f}% | ETA: {:.2f}s \".format(\"░\" * int(d), \n",
    "                                                                                   barLen, \n",
    "                                                                                   progress * 100,\n",
    "                                                                                   (barLen-d)/s))\n",
    "        sys.stdout.flush()\n",
    "    del start_time, progress, barLen, d, s"
   ]
  },
  {
   "cell_type": "code",
   "execution_count": 4,
   "metadata": {},
   "outputs": [],
   "source": [
    "''' \"extract_frequency_wise\" function is used to extract the words along with there\n",
    "    frequency from the single data file\n",
    "    after removing all special characters, spaces, stopwords and every useless\n",
    "    chars\n",
    "    \n",
    "    Parameters\n",
    "    ----------\n",
    "    data: file from which to be extracted\n",
    "    \n",
    "    Returns\n",
    "    -------\n",
    "    vocab_dict: dicitionary of words with frequency\n",
    "'''\n",
    "\n",
    "def extract_frequency_wise(data):\n",
    "    documents = []\n",
    "    \n",
    "    ''' Removing Remove all the special characters, all single character,\n",
    "        starting with single character,\n",
    "        multiple spaces\n",
    "        with only one single space\n",
    "    '''\n",
    "    \n",
    "    for x in range(0, len(data)):  \n",
    "        document = re.sub(r'\\W', ' ', str(data[x]))\n",
    "        document = re.sub(r'\\s+[a-zA-Z]\\s+', ' ', document)\n",
    "        document = re.sub(r'^[a-zA-Z]\\s+', ' ', document) \n",
    "        document = re.sub(r'\\s+', ' ', document, flags=re.I)\n",
    "        document = document.lower()\n",
    "        document = document.split()\n",
    "        documents.append(document)\n",
    "        \n",
    "    ''' Removing stopwords and numbers '''\n",
    "    \n",
    "    vocab = []\n",
    "    stop_words = stopwords.words('english')\n",
    "    \n",
    "    for i in range(len(documents)):\n",
    "        for j in range(len(documents[i])):\n",
    "            if not documents[i][j].isdigit() and documents[i][j] not in stop_words:\n",
    "                vocab.append(documents[i][j])\n",
    "    \n",
    "    ''' creating frequency list '''\n",
    "    \n",
    "    vocab_dict = {}\n",
    "    for w in vocab:\n",
    "        if w not in vocab_dict:\n",
    "            vocab_dict[w] = 1\n",
    "        else:\n",
    "            vocab_dict[w] += 1\n",
    "    \n",
    "    return vocab_dict"
   ]
  },
  {
   "cell_type": "code",
   "execution_count": 5,
   "metadata": {
    "scrolled": false
   },
   "outputs": [],
   "source": [
    "''' \"load_20news_group\" function is used to load the '20 news group' data into\n",
    "    python dictionary after removing special characters from each files with help of\n",
    "    \"extract_frequency_wise\" function \n",
    "    it stores the data into dictionary with folder name (or 20 news group classes) as a \"keys\"\n",
    "    and list of dictionary(of vocabulary) of each file from particular folder as \"values\"\n",
    "    \n",
    "    Parameters\n",
    "    ----------\n",
    "    data_per_group: integer, size of data(or files) to be load from each folder\n",
    "    \n",
    "    Results\n",
    "    -------\n",
    "    dictionary: dictionary of folder wise files vocabulary\n",
    "'''\n",
    "\n",
    "def load_20news_group(data_per_group = None):\n",
    "    start_time=time.time()\n",
    "    dictionary = {}\n",
    "    path=os.path.join(os.getcwd(), '20_newsgroups') # folder path from current working directory\n",
    "    \n",
    "    \n",
    "    ''' Getting Folders Names '''\n",
    "    news_groups_name = os.listdir(path)\n",
    "        \n",
    "    ''' Getting Files Names From Each Folder'''\n",
    "    files_name_dict = {}\n",
    "    for folder_name in news_groups_name:\n",
    "        files_name_dict[folder_name] = os.listdir(os.path.join(path, folder_name)) #appending file names group by folders\n",
    "\n",
    "        \n",
    "    ''' creating frequency dictionary of words '''\n",
    "    for i, news_group in enumerate(news_groups_name):\n",
    "        if data_per_group == None:\n",
    "            train_limit = len(files_name_dict[news_group])\n",
    "        else:\n",
    "            train_limit = min(data_per_group, len(files_name_dict[news_group]))\n",
    "        curr_grp_size=train_limit\n",
    "        dictionary[news_group] = []\n",
    "        for k, file_name in enumerate(files_name_dict[news_group]):\n",
    "            if train_limit:\n",
    "                f = open(os.path.join(path, news_group, file_name), encoding='latin-1')\n",
    "                file_stream = f.readlines()\n",
    "                vocab = extract_frequency_wise(file_stream) # extracting words\n",
    "                dictionary[news_group].append(vocab)\n",
    "                f.close()\n",
    "            else:\n",
    "                break\n",
    "            train_limit -= 1\n",
    "            loading_bar(start_time, (i/len(news_groups_name))+( (k+1)/(len(news_groups_name)*curr_grp_size) ), 40)\n",
    "            \n",
    "    return dictionary"
   ]
  },
  {
   "cell_type": "code",
   "execution_count": 6,
   "metadata": {},
   "outputs": [],
   "source": [
    "''' \"divide_data_train_test\" function is used to divide to loaded data with help of function\n",
    "    \"load_20news_group\" into train and test data to further making the single vocabulary list\n",
    "    of train data to select the features\n",
    "    \n",
    "    Parameters\n",
    "    ----------\n",
    "    data: dictionary \n",
    "    test_size: integer, size of test data\n",
    "    \n",
    "    Returns\n",
    "    -------\n",
    "    train_data: train_data dictionary\n",
    "    test_data: test_data dictionary\n",
    "'''\n",
    "\n",
    "def divide_data_train_test(data, test_size = 0.25):\n",
    "    train_data = {}\n",
    "    test_data = {}\n",
    "    \n",
    "    for k in data:\n",
    "        train_len = int(len(data[k]) * (1-test_size))\n",
    "        train_data[k] = data[k][:train_len]\n",
    "        test_data[k]  = data[k][train_len:]\n",
    "        \n",
    "    return train_data, test_data"
   ]
  },
  {
   "cell_type": "code",
   "execution_count": 7,
   "metadata": {},
   "outputs": [],
   "source": [
    "''' \"create_vocab_dict_from_train_data\" function is used to make a single flat dictionary \n",
    "    from the train data for selecting features\n",
    "    \n",
    "    Parameters\n",
    "    ----------\n",
    "    train_data: dictionary\n",
    "    \n",
    "    Returns\n",
    "    -------\n",
    "    dictionary\n",
    "'''\n",
    "def create_vocab_dict_from_train_data(train_data):\n",
    "    main_vocab = {}\n",
    "    for news_grp in train_data:\n",
    "        for _dict in train_data[news_grp]:\n",
    "            for k in _dict:\n",
    "                if k not in main_vocab:\n",
    "                    main_vocab[k] = _dict[k]\n",
    "                else:\n",
    "                    main_vocab[k] += _dict[k]\n",
    "    return dict(sorted(main_vocab.items(), key = lambda x : x[1], reverse=True))"
   ]
  },
  {
   "cell_type": "code",
   "execution_count": 8,
   "metadata": {},
   "outputs": [],
   "source": [
    "''' \"create_2d_array\" function is used to making a 2d numpy array from the non-flat dictionary(or nested dict)\n",
    "    \n",
    "    Parameters\n",
    "    ----------\n",
    "    data: dictionary\n",
    "    table_cols: selected features(or words)\n",
    "    \n",
    "    Returns\n",
    "    -------\n",
    "    2d np array\n",
    "'''\n",
    "def create_2d_array(data, table_cols):\n",
    "    _2darray = []\n",
    "    k=0\n",
    "    for group_name in data.keys():\n",
    "        for _dict in data[group_name]:\n",
    "            curr_row = [0] * (len(table_cols) + 1) # (+ 1) because of news_group_class_name column\n",
    "            curr_row[-1] = k # news_group names\n",
    "            for i in range(len(table_cols)):\n",
    "                if table_cols[i] in _dict:\n",
    "                    curr_row[i] = _dict[table_cols[i]]\n",
    "            _2darray.append(curr_row)\n",
    "        k += 1\n",
    "    return np.array(_2darray)"
   ]
  },
  {
   "cell_type": "markdown",
   "metadata": {},
   "source": [
    "# Loading Data from hard drive (it's takes some time)"
   ]
  },
  {
   "cell_type": "code",
   "execution_count": 9,
   "metadata": {},
   "outputs": [
    {
     "name": "stdout",
     "output_type": "stream",
     "text": [
      "Progress: |░░░░░░░░░░░░░░░░░░░░░░░░░░░░░░░░░░░░░░░░| 100.00% | ETA: 0.00s | Elapsed Time: ~49.41s"
     ]
    }
   ],
   "source": [
    "data = load_20news_group() # pass one integer args for size of data"
   ]
  },
  {
   "cell_type": "markdown",
   "metadata": {},
   "source": [
    "## Classes name"
   ]
  },
  {
   "cell_type": "code",
   "execution_count": 10,
   "metadata": {},
   "outputs": [
    {
     "data": {
      "text/plain": [
       "['misc.forsale',\n",
       " 'talk.politics.mideast',\n",
       " 'rec.motorcycles',\n",
       " 'sci.med',\n",
       " 'comp.sys.mac.hardware',\n",
       " 'talk.religion.misc',\n",
       " 'rec.sport.baseball',\n",
       " 'comp.graphics',\n",
       " 'sci.electronics',\n",
       " 'rec.sport.hockey',\n",
       " 'rec.autos',\n",
       " 'talk.politics.misc',\n",
       " 'comp.windows.x',\n",
       " 'sci.space',\n",
       " 'alt.atheism',\n",
       " 'comp.sys.ibm.pc.hardware',\n",
       " 'soc.religion.christian',\n",
       " 'talk.politics.guns',\n",
       " 'sci.crypt',\n",
       " 'comp.os.ms-windows.misc']"
      ]
     },
     "execution_count": 10,
     "metadata": {},
     "output_type": "execute_result"
    }
   ],
   "source": [
    "classes_names = list(data.keys())\n",
    "classes_names"
   ]
  },
  {
   "cell_type": "markdown",
   "metadata": {},
   "source": [
    "## Dividing Training and Testing Data"
   ]
  },
  {
   "cell_type": "code",
   "execution_count": 11,
   "metadata": {},
   "outputs": [
    {
     "name": "stdout",
     "output_type": "stream",
     "text": [
      "750 250\n"
     ]
    }
   ],
   "source": [
    "''' test_data_size: must be same in both divide_data_train_test and train_test_splitting function(s) '''\n",
    "\n",
    "test_data_size = 0.25\n",
    "train_data, test_data = divide_data_train_test(data, test_data_size)\n",
    "print(len(train_data[classes_names[0]]), len(test_data[classes_names[0]]))"
   ]
  },
  {
   "cell_type": "markdown",
   "metadata": {},
   "source": [
    "## Creating Words Dictionary from training data for Selecting Features"
   ]
  },
  {
   "cell_type": "code",
   "execution_count": 12,
   "metadata": {},
   "outputs": [],
   "source": [
    "main_vocab = create_vocab_dict_from_train_data(train_data)"
   ]
  },
  {
   "cell_type": "code",
   "execution_count": 13,
   "metadata": {},
   "outputs": [
    {
     "name": "stdout",
     "output_type": "stream",
     "text": [
      "Total Words: 146090\n"
     ]
    }
   ],
   "source": [
    "print('Total Words: {}'.format(len(main_vocab)))"
   ]
  },
  {
   "cell_type": "markdown",
   "metadata": {},
   "source": [
    "## Total Words: 1,46,090"
   ]
  },
  {
   "cell_type": "code",
   "execution_count": 14,
   "metadata": {
    "scrolled": false
   },
   "outputs": [],
   "source": [
    "''' Taking top 'k' words as a features '''\n",
    "\n",
    "k = 1791\n",
    "df = pd.DataFrame({'words': list(main_vocab.keys()), 'frequency': list(main_vocab.values())})\n",
    "df = df.head(k)\n",
    "table_cols = list(df.words.values)"
   ]
  },
  {
   "cell_type": "code",
   "execution_count": 15,
   "metadata": {},
   "outputs": [
    {
     "data": {
      "image/png": "[encoded data removed]",
      "text/plain": [
       "<Figure size 576x1080 with 1 Axes>"
      ]
     },
     "metadata": {
      "needs_background": "light"
     },
     "output_type": "display_data"
    }
   ],
   "source": [
    "graph = df.head(50)\n",
    "graph=graph.sort_values(by='frequency', ascending=True)\n",
    "plt.barh(y=graph['words'], width=graph['frequency'], align='center')\n",
    "# plt.xticks(rotation=90, fontsize=18)\n",
    "plt.yticks(fontsize=16)\n",
    "plt.show()"
   ]
  },
  {
   "cell_type": "code",
   "execution_count": 16,
   "metadata": {},
   "outputs": [
    {
     "data": {
      "text/html": [
       "<div>\n",
       "<style scoped>\n",
       "    .dataframe tbody tr th:only-of-type {\n",
       "        vertical-align: middle;\n",
       "    }\n",
       "\n",
       "    .dataframe tbody tr th {\n",
       "        vertical-align: top;\n",
       "    }\n",
       "\n",
       "    .dataframe thead th {\n",
       "        text-align: right;\n",
       "    }\n",
       "</style>\n",
       "<table border=\"1\" class=\"dataframe\">\n",
       "  <thead>\n",
       "    <tr style=\"text-align: right;\">\n",
       "      <th></th>\n",
       "      <th>words</th>\n",
       "      <th>frequency</th>\n",
       "    </tr>\n",
       "  </thead>\n",
       "  <tbody>\n",
       "    <tr>\n",
       "      <th>0</th>\n",
       "      <td>edu</td>\n",
       "      <td>123273</td>\n",
       "    </tr>\n",
       "    <tr>\n",
       "      <th>1</th>\n",
       "      <td>ax</td>\n",
       "      <td>43545</td>\n",
       "    </tr>\n",
       "    <tr>\n",
       "      <th>2</th>\n",
       "      <td>cmu</td>\n",
       "      <td>39415</td>\n",
       "    </tr>\n",
       "    <tr>\n",
       "      <th>3</th>\n",
       "      <td>com</td>\n",
       "      <td>37650</td>\n",
       "    </tr>\n",
       "    <tr>\n",
       "      <th>4</th>\n",
       "      <td>cs</td>\n",
       "      <td>33904</td>\n",
       "    </tr>\n",
       "  </tbody>\n",
       "</table>\n",
       "</div>"
      ],
      "text/plain": [
       "  words  frequency\n",
       "0   edu     123273\n",
       "1    ax      43545\n",
       "2   cmu      39415\n",
       "3   com      37650\n",
       "4    cs      33904"
      ]
     },
     "execution_count": 16,
     "metadata": {},
     "output_type": "execute_result"
    }
   ],
   "source": [
    "df.head()"
   ]
  },
  {
   "cell_type": "markdown",
   "metadata": {},
   "source": [
    "## Creating 2d array from loaded data"
   ]
  },
  {
   "cell_type": "code",
   "execution_count": 17,
   "metadata": {},
   "outputs": [],
   "source": [
    "_2darray = create_2d_array(data, table_cols)"
   ]
  },
  {
   "cell_type": "code",
   "execution_count": 18,
   "metadata": {},
   "outputs": [
    {
     "data": {
      "text/plain": [
       "(19997, 1792)"
      ]
     },
     "execution_count": 18,
     "metadata": {},
     "output_type": "execute_result"
    }
   ],
   "source": [
    "_2darray.shape"
   ]
  },
  {
   "cell_type": "code",
   "execution_count": 19,
   "metadata": {},
   "outputs": [
    {
     "data": {
      "text/plain": [
       "((19997, 1791), (19997,))"
      ]
     },
     "execution_count": 19,
     "metadata": {},
     "output_type": "execute_result"
    }
   ],
   "source": [
    "X = _2darray[:, :-1]#np.array(final_df.iloc[:,:-1].values, dtype='int')\n",
    "Y = _2darray[:, -1]#final_df['news_group_class_name'].values\n",
    "X.shape, Y.shape"
   ]
  },
  {
   "cell_type": "markdown",
   "metadata": {},
   "source": [
    "## Splitting data into training and testing part using sklearn in built function"
   ]
  },
  {
   "cell_type": "code",
   "execution_count": 20,
   "metadata": {},
   "outputs": [
    {
     "name": "stdout",
     "output_type": "stream",
     "text": [
      "(14997, 1791) (5000, 1791)\n"
     ]
    }
   ],
   "source": [
    "x_train, x_test, y_train, y_test = train_test_split(X, Y, test_size=test_data_size, random_state=1) \n",
    "print(x_train.shape, x_test.shape)"
   ]
  },
  {
   "cell_type": "markdown",
   "metadata": {},
   "source": [
    "## Implementing `Multinomial Naive Bayes` For Text Classification"
   ]
  },
  {
   "cell_type": "code",
   "execution_count": 21,
   "metadata": {},
   "outputs": [],
   "source": [
    "class MultinomialNaiveBayes:\n",
    "    \n",
    "    __map = {}\n",
    "    __alpha = None\n",
    "    \n",
    "    def __init__(self, alpha):\n",
    "        if alpha <= 0:\n",
    "            alpha=1\n",
    "        self.__alpha = alpha\n",
    "    \n",
    "    \n",
    "    def fit(self, x_train, y_train):\n",
    "        for class_type in set(y_train):\n",
    "            self.__map[class_type] = {}\n",
    "            xs = x_train[y_train == class_type]\n",
    "            self.__map[class_type]['total_count'] = xs.sum()\n",
    "            feature_counts = xs.sum(axis=0)\n",
    "            self.__map[class_type]['all_features'] = feature_counts   \n",
    "        return self   \n",
    "        \n",
    "    def max_probability(self, x_row, classes, feature_len):\n",
    "        best_class = None\n",
    "        max_prob = -2**31\n",
    "        for each_class in  classes:\n",
    "            temp_prob = 0\n",
    "            required_features = self.__map[each_class]['all_features'][[x_row > 0]]\n",
    "            log_prob = np.log(required_features + self.__alpha) - mt.log(self.__map[each_class]['total_count'] + (self.__alpha * feature_len))\n",
    "            temp_prob = log_prob.sum()\n",
    "            if temp_prob > max_prob:\n",
    "                max_prob = temp_prob\n",
    "                best_class = each_class\n",
    "                \n",
    "        if best_class is not None:\n",
    "            return best_class\n",
    "        return -1\n",
    "            \n",
    "    \n",
    "    def predict(self, x_test):\n",
    "        y_pred = []\n",
    "        classes = self.__map.keys()\n",
    "        feature_len = len(x_test[0])\n",
    "        for x_row in x_test:\n",
    "            y_pred.append(self.max_probability(x_row, classes, feature_len))\n",
    "        return np.array(y_pred)\n",
    "    \n",
    "    \n",
    "    def __str__(self):\n",
    "        return 'MultinomialNaiveBayes(alpha=%s)'%self.__alpha\n",
    "    \n",
    "    def __repr__(self):\n",
    "        return 'MultinomialNaiveBayes(alpha=%s)'%self.__alpha"
   ]
  },
  {
   "cell_type": "markdown",
   "metadata": {},
   "source": [
    "## Classification Using Self Implemented MultinomialNaiveBayes"
   ]
  },
  {
   "cell_type": "code",
   "execution_count": 22,
   "metadata": {},
   "outputs": [
    {
     "data": {
      "text/plain": [
       "MultinomialNaiveBayes(alpha=123)"
      ]
     },
     "execution_count": 22,
     "metadata": {},
     "output_type": "execute_result"
    }
   ],
   "source": [
    "mnb = MultinomialNaiveBayes(alpha=123)\n",
    "mnb.fit(x_train, y_train)"
   ]
  },
  {
   "cell_type": "code",
   "execution_count": 23,
   "metadata": {},
   "outputs": [
    {
     "name": "stderr",
     "output_type": "stream",
     "text": [
      "<ipython-input-21-67546c0c58af>:29: FutureWarning: Using a non-tuple sequence for multidimensional indexing is deprecated; use `arr[tuple(seq)]` instead of `arr[seq]`. In the future this will be interpreted as an array index, `arr[np.array(seq)]`, which will result either in an error or a different result.\n",
      "  required_features = self.__map[each_class]['all_features'][[x_row > 0]]\n"
     ]
    },
    {
     "data": {
      "text/plain": [
       "(14997,)"
      ]
     },
     "execution_count": 23,
     "metadata": {},
     "output_type": "execute_result"
    }
   ],
   "source": [
    "y_train_pred_me = mnb.predict(x_train)\n",
    "y_train_pred_me.shape"
   ]
  },
  {
   "cell_type": "code",
   "execution_count": 24,
   "metadata": {},
   "outputs": [
    {
     "name": "stderr",
     "output_type": "stream",
     "text": [
      "<ipython-input-21-67546c0c58af>:29: FutureWarning: Using a non-tuple sequence for multidimensional indexing is deprecated; use `arr[tuple(seq)]` instead of `arr[seq]`. In the future this will be interpreted as an array index, `arr[np.array(seq)]`, which will result either in an error or a different result.\n",
      "  required_features = self.__map[each_class]['all_features'][[x_row > 0]]\n"
     ]
    },
    {
     "data": {
      "text/plain": [
       "(5000,)"
      ]
     },
     "execution_count": 24,
     "metadata": {},
     "output_type": "execute_result"
    }
   ],
   "source": [
    "y_test_pred_me = mnb.predict(x_test)\n",
    "y_test_pred_me.shape"
   ]
  },
  {
   "cell_type": "code",
   "execution_count": 25,
   "metadata": {},
   "outputs": [
    {
     "name": "stdout",
     "output_type": "stream",
     "text": [
      "Train Accuracy: 0.879375875175035\n",
      "Test Accuracy: 0.8546\n",
      "              precision    recall  f1-score   support\n",
      "\n",
      "           0       0.91      0.93      0.92       261\n",
      "           1       0.92      0.91      0.91       248\n",
      "           2       0.98      0.95      0.97       253\n",
      "           3       0.98      0.94      0.96       260\n",
      "           4       0.96      0.92      0.94       266\n",
      "           5       0.74      0.58      0.65       265\n",
      "           6       0.98      0.92      0.95       252\n",
      "           7       0.77      0.91      0.83       223\n",
      "           8       1.00      0.79      0.88       293\n",
      "           9       0.93      0.98      0.96       245\n",
      "          10       0.92      0.96      0.94       247\n",
      "          11       0.68      0.76      0.72       248\n",
      "          12       0.61      0.91      0.73       239\n",
      "          13       0.90      0.95      0.93       236\n",
      "          14       0.78      0.84      0.81       238\n",
      "          15       0.65      0.98      0.78       235\n",
      "          16       0.95      1.00      0.98       253\n",
      "          17       0.84      0.92      0.88       258\n",
      "          18       0.94      0.98      0.96       228\n",
      "          19       0.00      0.00      0.00       252\n",
      "\n",
      "    accuracy                           0.85      5000\n",
      "   macro avg       0.82      0.86      0.83      5000\n",
      "weighted avg       0.83      0.85      0.83      5000\n",
      "\n"
     ]
    }
   ],
   "source": [
    "print('Train Accuracy: {}'.format(accuracy_score(y_train, y_train_pred_me)))\n",
    "print('Test Accuracy: {}'.format(accuracy_score(y_test, y_test_pred_me)))\n",
    "print(classification_report(y_test, y_test_pred_me))"
   ]
  },
  {
   "cell_type": "code",
   "execution_count": 26,
   "metadata": {},
   "outputs": [
    {
     "name": "stdout",
     "output_type": "stream",
     "text": [
      "[[242   0   0   0   0   0   0   0   0   0   6   5   0   1   1   6   0   0\n",
      "    0   0]\n",
      " [  0 225   0   0   0   1   0   1   0   0   0  18   0   2   0   0   0   1\n",
      "    0   0]\n",
      " [  5   0 241   1   0   0   0   0   0   0   5   1   0   0   0   0   0   0\n",
      "    0   0]\n",
      " [  1   0   0 244   0   0   0   1   0   0   0   1   2   6   3   0   0   1\n",
      "    1   0]\n",
      " [  3   0   0   0 246   0   0   0   0   0   0   0   1   0   0  16   0   0\n",
      "    0   0]\n",
      " [  0   1   0   0   0 154   0   0   0   0   0  36   0   0  52   0  10  11\n",
      "    1   0]\n",
      " [  0   0   2   0   0   0 233   0   0  17   0   0   0   0   0   0   0   0\n",
      "    0   0]\n",
      " [  1   0   0   1   0   0   1 204   0   0   1   0   6   0   0   7   0   0\n",
      "    2   0]\n",
      " [  7   0   0   2   5   0   0   8 231   1   9   0   1  12   0   8   0   2\n",
      "    7   0]\n",
      " [  0   0   0   0   0   0   3   0   0 241   0   1   0   0   0   0   0   0\n",
      "    0   0]\n",
      " [  5   0   1   0   0   0   0   0   0   0 238   2   0   0   0   0   0   1\n",
      "    0   0]\n",
      " [  0  15   0   1   0  18   0   0   0   0   0 189   0   0   0   0   0  25\n",
      "    0   0]\n",
      " [  0   0   0   0   1   0   0  16   0   0   0   0 217   1   0   4   0   0\n",
      "    0   0]\n",
      " [  0   0   0   0   1   0   0   4   0   0   1   2   0 225   1   0   0   2\n",
      "    0   0]\n",
      " [  0   2   1   1   0  29   1   0   0   0   0   0   0   0 200   0   2   1\n",
      "    1   0]\n",
      " [  1   0   0   0   0   0   0   2   0   0   0   0   2   0   0 230   0   0\n",
      "    0   0]\n",
      " [  0   0   0   0   0   0   0   0   0   0   0   0   0   0   0   0 253   0\n",
      "    0   0]\n",
      " [  0   1   0   0   0   5   0   0   0   0   0  12   0   1   0   0   0 237\n",
      "    1   1]\n",
      " [  0   0   0   0   0   0   0   3   0   0   0   0   0   1   0   0   0   1\n",
      "  223   0]\n",
      " [  1   0   0   0   2   0   0  27   0   0   0  10 125   0   0  85   0   0\n",
      "    2   0]]\n"
     ]
    }
   ],
   "source": [
    "print(confusion_matrix(y_test, y_test_pred_me))"
   ]
  },
  {
   "cell_type": "markdown",
   "metadata": {},
   "source": [
    "## Classification Using Inbuilt Sklearn MultinomialNB"
   ]
  },
  {
   "cell_type": "code",
   "execution_count": 27,
   "metadata": {},
   "outputs": [
    {
     "name": "stdout",
     "output_type": "stream",
     "text": [
      "MultinomialNB()\n"
     ]
    }
   ],
   "source": [
    "clf = MultinomialNB()\n",
    "print((clf.fit(x_train, y_train)))"
   ]
  },
  {
   "cell_type": "code",
   "execution_count": 28,
   "metadata": {},
   "outputs": [
    {
     "data": {
      "text/plain": [
       "(14997,)"
      ]
     },
     "execution_count": 28,
     "metadata": {},
     "output_type": "execute_result"
    }
   ],
   "source": [
    "y_train_pred_naive = clf.predict(x_train)\n",
    "y_train_pred_naive.shape"
   ]
  },
  {
   "cell_type": "code",
   "execution_count": 29,
   "metadata": {},
   "outputs": [
    {
     "data": {
      "text/plain": [
       "(5000,)"
      ]
     },
     "execution_count": 29,
     "metadata": {},
     "output_type": "execute_result"
    }
   ],
   "source": [
    "y_test_pred_naive = clf.predict(x_test)\n",
    "y_test_pred_naive.shape"
   ]
  },
  {
   "cell_type": "code",
   "execution_count": 30,
   "metadata": {},
   "outputs": [
    {
     "name": "stdout",
     "output_type": "stream",
     "text": [
      "Train Accuracy: 0.8543708741748349\n",
      "Test Accuracy: 0.8184\n",
      "              precision    recall  f1-score   support\n",
      "\n",
      "           0       0.79      0.92      0.85       261\n",
      "           1       0.92      0.88      0.90       248\n",
      "           2       0.88      0.93      0.91       253\n",
      "           3       0.96      0.88      0.92       260\n",
      "           4       0.79      0.90      0.84       266\n",
      "           5       0.70      0.61      0.65       265\n",
      "           6       0.96      0.89      0.92       252\n",
      "           7       0.75      0.82      0.78       223\n",
      "           8       0.83      0.84      0.84       293\n",
      "           9       0.91      0.93      0.92       245\n",
      "          10       0.85      0.89      0.87       247\n",
      "          11       0.77      0.69      0.72       248\n",
      "          12       0.62      0.82      0.71       239\n",
      "          13       0.90      0.92      0.91       236\n",
      "          14       0.80      0.81      0.80       238\n",
      "          15       0.55      0.80      0.65       235\n",
      "          16       0.95      0.99      0.97       253\n",
      "          17       0.81      0.90      0.86       258\n",
      "          18       0.99      0.94      0.96       228\n",
      "          19       0.62      0.02      0.04       252\n",
      "\n",
      "    accuracy                           0.82      5000\n",
      "   macro avg       0.82      0.82      0.80      5000\n",
      "weighted avg       0.82      0.82      0.80      5000\n",
      "\n"
     ]
    }
   ],
   "source": [
    "print('Train Accuracy: {}'.format(accuracy_score(y_train, y_train_pred_naive)))\n",
    "print('Test Accuracy: {}'.format(accuracy_score(y_test, y_test_pred_naive)))\n",
    "print(classification_report(y_test, y_test_pred_naive))"
   ]
  },
  {
   "cell_type": "code",
   "execution_count": 31,
   "metadata": {},
   "outputs": [
    {
     "name": "stdout",
     "output_type": "stream",
     "text": [
      "[[240   0   2   0   0   0   0   1   5   0   5   0   0   1   0   7   0   0\n",
      "    0   0]\n",
      " [  0 219   1   0   0   0   0   1   0   0   2  18   1   1   0   0   1   4\n",
      "    0   0]\n",
      " [  6   0 236   0   0   0   0   0   1   0  10   0   0   0   0   0   0   0\n",
      "    0   0]\n",
      " [  5   0   5 228   3   0   0   1  10   1   1   0   1   4   0   1   0   0\n",
      "    0   0]\n",
      " [  5   0   0   0 240   0   0   3   2   0   0   0   3   0   0  13   0   0\n",
      "    0   0]\n",
      " [  0   1   0   1   0 162   0   1   2   2   1  20   0   1  48   0  10  16\n",
      "    0   0]\n",
      " [  4   0   3   0   0   0 224   0   2  15   2   0   0   1   0   0   0   1\n",
      "    0   0]\n",
      " [  4   0   1   2   6   0   1 182   2   0   1   0  12   1   0  11   0   0\n",
      "    0   0]\n",
      " [  6   0   1   3   5   0   0   5 247   1  13   0   0   6   0   6   0   0\n",
      "    0   0]\n",
      " [  1   0   2   0   0   0   7   0   0 228   3   1   1   0   1   0   0   0\n",
      "    0   1]\n",
      " [  7   0   8   0   0   0   0   0   7   1 221   0   0   0   0   1   0   2\n",
      "    0   0]\n",
      " [  0  13   1   1   0  30   0   1   0   1   0 170   0   1   0   0   1  27\n",
      "    2   0]\n",
      " [  7   1   0   1   4   0   0  17   0   0   0   0 196   3   0  10   0   0\n",
      "    0   0]\n",
      " [  1   0   0   0   2   0   1   2   7   2   1   1   0 217   0   0   0   1\n",
      "    0   1]\n",
      " [  1   1   3   0   0  34   0   0   1   0   0   1   0   1 192   0   2   1\n",
      "    1   0]\n",
      " [  7   0   0   0  27   0   0   5   3   0   0   0   6   0   0 187   0   0\n",
      "    0   0]\n",
      " [  0   2   0   0   0   0   0   0   0   0   0   0   0   0   0   0 251   0\n",
      "    0   0]\n",
      " [  0   0   3   0   0   6   1   0   1   0   0  10   0   2   0   1   0 233\n",
      "    0   1]\n",
      " [  0   0   1   0   1   0   0   3   5   0   0   1   0   1   0   0   0   2\n",
      "  214   0]\n",
      " [  8   0   0   1  17   0   0  20   2   0   1   0  95   0   0 103   0   0\n",
      "    0   5]]\n"
     ]
    }
   ],
   "source": [
    "print(confusion_matrix(y_test, y_test_pred_naive))"
   ]
  }
 ],
 "metadata": {
  "kernelspec": {
   "display_name": "Python 3",
   "language": "python",
   "name": "python3"
  },
  "language_info": {
   "codemirror_mode": {
    "name": "ipython",
    "version": 3
   },
   "file_extension": ".py",
   "mimetype": "text/x-python",
   "name": "python",
   "nbconvert_exporter": "python",
   "pygments_lexer": "ipython3",
   "version": "3.8.2"
  }
 },
 "nbformat": 4,
 "nbformat_minor": 2
}
